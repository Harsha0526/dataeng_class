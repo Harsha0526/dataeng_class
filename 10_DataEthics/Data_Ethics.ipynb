{
  "nbformat": 4,
  "nbformat_minor": 0,
  "metadata": {
    "colab": {
      "provenance": []
    },
    "kernelspec": {
      "name": "python3",
      "display_name": "Python 3"
    },
    "language_info": {
      "name": "python"
    }
  },
  "cells": [
    {
      "cell_type": "markdown",
      "source": [],
      "metadata": {
        "id": "WU_u4K3S-SU9"
      }
    },
    {
      "cell_type": "code",
      "execution_count": 1,
      "metadata": {
        "colab": {
          "base_uri": "https://localhost:8080/"
        },
        "id": "-_l786oD-R0P",
        "outputId": "607e78c9-7831-48c5-ebd0-cc588079ec92"
      },
      "outputs": [
        {
          "output_type": "stream",
          "name": "stdout",
          "text": [
            "Collecting faker\n",
            "  Downloading Faker-25.8.0-py3-none-any.whl (1.8 MB)\n",
            "\u001b[2K     \u001b[90m━━━━━━━━━━━━━━━━━━━━━━━━━━━━━━━━━━━━━━━━\u001b[0m \u001b[32m1.8/1.8 MB\u001b[0m \u001b[31m9.5 MB/s\u001b[0m eta \u001b[36m0:00:00\u001b[0m\n",
            "\u001b[?25hRequirement already satisfied: pandas in /usr/local/lib/python3.10/dist-packages (2.0.3)\n",
            "Requirement already satisfied: python-dateutil>=2.4 in /usr/local/lib/python3.10/dist-packages (from faker) (2.8.2)\n",
            "Requirement already satisfied: pytz>=2020.1 in /usr/local/lib/python3.10/dist-packages (from pandas) (2023.4)\n",
            "Requirement already satisfied: tzdata>=2022.1 in /usr/local/lib/python3.10/dist-packages (from pandas) (2024.1)\n",
            "Requirement already satisfied: numpy>=1.21.0 in /usr/local/lib/python3.10/dist-packages (from pandas) (1.25.2)\n",
            "Requirement already satisfied: six>=1.5 in /usr/local/lib/python3.10/dist-packages (from python-dateutil>=2.4->faker) (1.16.0)\n",
            "Installing collected packages: faker\n",
            "Successfully installed faker-25.8.0\n",
            "Synthetic dataset with 10000 employees has been saved to synthetic_employees.csv\n"
          ]
        }
      ],
      "source": [
        "!pip install faker pandas\n",
        "\n",
        "from faker import Faker\n",
        "import random\n",
        "import pandas as pd\n",
        "\n",
        "fake = Faker()\n",
        "\n",
        "num_employees = 10000\n",
        "\n",
        "departments = {\n",
        "    'Legal': 0.05,\n",
        "    'Marketing': 0.10,\n",
        "    'Administrative': 0.10,\n",
        "    'Operations': 0.20,\n",
        "    'Sales': 0.10,\n",
        "    'Finance': 0.05,\n",
        "    'I/T': 0.10,\n",
        "    'Product': 0.20,\n",
        "    'Human Resource': 0.10\n",
        "}\n",
        "\n",
        "department_list = []\n",
        "for dept, proportion in departments.items():\n",
        "    department_list.extend([dept] * int(proportion * num_employees))\n",
        "\n",
        "def get_job_and_salary(department):\n",
        "    salary_ranges = {\n",
        "        'Legal': (50000, 150000),\n",
        "        'Marketing': (40000, 120000),\n",
        "        'Administrative': (30000, 80000),\n",
        "        'Operations': (40000, 100000),\n",
        "        'Sales': (35000, 110000),\n",
        "        'Finance': (45000, 130000),\n",
        "        'I/T': (50000, 140000),\n",
        "        'Product': (45000, 125000),\n",
        "        'Human Resource': (35000, 90000)\n",
        "    }\n",
        "\n",
        "    job_titles = {\n",
        "        'Legal': ['Legal Assistant', 'Paralegal', 'Legal Counsel', 'Compliance Officer'],\n",
        "        'Marketing': ['Marketing Specialist', 'Marketing Manager', 'SEO Specialist', 'Content Strategist'],\n",
        "        'Administrative': ['Administrative Assistant', 'Office Manager', 'Executive Assistant'],\n",
        "        'Operations': ['Operations Manager', 'Logistics Coordinator', 'Supply Chain Analyst'],\n",
        "        'Sales': ['Sales Representative', 'Account Manager', 'Sales Director'],\n",
        "        'Finance': ['Financial Analyst', 'Accountant', 'Finance Manager'],\n",
        "        'I/T': ['Software Developer', 'System Administrator', 'IT Support Specialist'],\n",
        "        'Product': ['Product Manager', 'Product Designer', 'UX Researcher'],\n",
        "        'Human Resource': ['HR Specialist', 'Recruiter', 'HR Manager']\n",
        "    }\n",
        "\n",
        "    job_title = random.choice(job_titles[department])\n",
        "    salary = random.randint(*salary_ranges[department])\n",
        "\n",
        "    return job_title, salary\n",
        "\n",
        "data = []\n",
        "for i in range(num_employees):\n",
        "    first_name = fake.first_name()\n",
        "    last_name = fake.last_name()\n",
        "    email = fake.email()\n",
        "    phone = fake.phone_number()\n",
        "    gender = random.choice(['male', 'female'])\n",
        "    age = random.randint(22, 65)\n",
        "    years_of_experience = random.randint(0, age - 22)\n",
        "    ssn = fake.ssn()\n",
        "\n",
        "    department = department_list[i]\n",
        "    job_title, salary = get_job_and_salary(department)\n",
        "\n",
        "    is_us_citizen = random.random() > 0.4\n",
        "    if not is_us_citizen:\n",
        "        country = random.choices(\n",
        "            ['India', 'Mainland China', 'Canada', 'South Korea', 'Philippines', 'Taiwan', 'Mexico'],\n",
        "            weights=[0.75, 0.15, 0.025, 0.025, 0.025, 0.025, 0.1], k=1)[0]\n",
        "    else:\n",
        "        country = 'USA'\n",
        "\n",
        "    languages_spoken = random.sample(['Spanish', 'Mandarin', 'Hindi', 'French', 'German', 'Korean', 'Japanese', 'Arabic'], k=random.randint(0, 2))\n",
        "\n",
        "    data.append([\n",
        "        first_name, last_name, email, phone, gender, age, job_title, years_of_experience, salary, department, ssn, country, languages_spoken\n",
        "    ])\n",
        "\n",
        "columns = ['First Name', 'Last Name', 'Email', 'Phone', 'Gender', 'Age', 'Job Title', 'Years Of Experience', 'Salary', 'Department', 'SSN', 'Country', 'Languages Spoken']\n",
        "df = pd.DataFrame(data, columns=columns)\n",
        "\n",
        "output_path = 'synthetic_employees.csv'\n",
        "df.to_csv(output_path, index=False)\n",
        "\n",
        "print(f'Synthetic dataset with {num_employees} employees has been saved to {output_path}')\n"
      ]
    }
  ]
}